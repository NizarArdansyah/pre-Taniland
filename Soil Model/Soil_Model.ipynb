{
  "cells": [
    {
      "cell_type": "markdown",
      "metadata": {
        "id": "view-in-github",
        "colab_type": "text"
      },
      "source": [
        "<a href=\"https://colab.research.google.com/github/NizarArdansyah/Capstone-Project-Machine-Learning/blob/main/Soil%20Model/Soil_Model.ipynb\" target=\"_parent\"><img src=\"https://colab.research.google.com/assets/colab-badge.svg\" alt=\"Open In Colab\"/></a>"
      ]
    },
    {
      "cell_type": "markdown",
      "source": [
        "#**Import Library**#"
      ],
      "metadata": {
        "id": "lUGci4d0Z3h6"
      },
      "id": "lUGci4d0Z3h6"
    },
    {
      "cell_type": "code",
      "execution_count": null,
      "metadata": {
        "id": "fTaS80Hn4edu"
      },
      "outputs": [],
      "source": [
        "from google.colab import drive"
      ],
      "id": "fTaS80Hn4edu"
    },
    {
      "cell_type": "code",
      "execution_count": null,
      "metadata": {
        "colab": {
          "base_uri": "https://localhost:8080/"
        },
        "id": "4ddb1314",
        "outputId": "2b7b8013-f77e-44cb-c012-a2adfea7bc2c"
      },
      "outputs": [
        {
          "output_type": "stream",
          "name": "stdout",
          "text": [
            "Mounted at /content/drive/\n"
          ]
        }
      ],
      "source": [
        "import os\n",
        "import zipfile\n",
        "import random\n",
        "import shutil\n",
        "import tensorflow as tf\n",
        "from tensorflow.keras.preprocessing.image import ImageDataGenerator\n",
        "from shutil import copyfile\n",
        "import matplotlib.pyplot as plt\n",
        "\n",
        "drive.mount('/content/drive/')"
      ],
      "id": "4ddb1314"
    },
    {
      "cell_type": "markdown",
      "source": [
        "#**Load dataset**#"
      ],
      "metadata": {
        "id": "YubA7wTLaFYA"
      },
      "id": "YubA7wTLaFYA"
    },
    {
      "cell_type": "code",
      "execution_count": null,
      "metadata": {
        "colab": {
          "base_uri": "https://localhost:8080/"
        },
        "id": "K8-FzGzk5UKm",
        "outputId": "a9f0cc6d-b167-4ce7-b780-d03aa26f7823"
      },
      "outputs": [
        {
          "output_type": "stream",
          "name": "stdout",
          "text": [
            "Soil_Types  Soil_Types_Splited\n"
          ]
        }
      ],
      "source": [
        "base_dir = '/content/drive/My Drive/Capstone/'\n",
        "!ls \"/content/drive/My Drive/Capstone/\""
      ],
      "id": "K8-FzGzk5UKm"
    },
    {
      "cell_type": "markdown",
      "source": [
        "#**Split dataset untuk training dan testing**#"
      ],
      "metadata": {
        "id": "6WLa9PL3aL8I"
      },
      "id": "6WLa9PL3aL8I"
    },
    {
      "cell_type": "code",
      "source": [
        "!pip install split-folders"
      ],
      "metadata": {
        "id": "UtqDpFINxZ2k",
        "outputId": "c7dc9db2-b13a-476b-f47e-420840a34a98",
        "colab": {
          "base_uri": "https://localhost:8080/"
        }
      },
      "id": "UtqDpFINxZ2k",
      "execution_count": null,
      "outputs": [
        {
          "output_type": "stream",
          "name": "stdout",
          "text": [
            "Looking in indexes: https://pypi.org/simple, https://us-python.pkg.dev/colab-wheels/public/simple/\n",
            "Collecting split-folders\n",
            "  Downloading split_folders-0.5.1-py3-none-any.whl (8.4 kB)\n",
            "Installing collected packages: split-folders\n",
            "Successfully installed split-folders-0.5.1\n"
          ]
        }
      ]
    },
    {
      "cell_type": "code",
      "execution_count": null,
      "metadata": {
        "id": "L0rF8KED566_",
        "outputId": "3b0fe30e-879c-48bd-d7e5-69f4190178a4",
        "colab": {
          "base_uri": "https://localhost:8080/"
        }
      },
      "outputs": [
        {
          "output_type": "stream",
          "name": "stderr",
          "text": [
            "Copying files: 82 files [01:57,  1.44s/ files]\n"
          ]
        }
      ],
      "source": [
        "soil_dir = os.path.join(base_dir, 'Soil_Types')\n",
        "split_dir = os.path.join(base_dir, 'Soil_Types_Splited')\n",
        "import splitfolders\n",
        "\n",
        "splitfolders.ratio(soil_dir, output=split_dir, seed=42, ratio=(0.9,0.1), group_prefix=None)\n",
        "training_dir = os.path.join(split_dir, 'train')\n",
        "validation_dir = os.path.join(split_dir, 'val')"
      ],
      "id": "L0rF8KED566_"
    },
    {
      "cell_type": "code",
      "execution_count": null,
      "metadata": {
        "colab": {
          "base_uri": "https://localhost:8080/"
        },
        "id": "c7hvG4U66aZF",
        "outputId": "3aec58a4-6cbf-4e9f-9a71-3075bc626da9"
      },
      "outputs": [
        {
          "output_type": "stream",
          "name": "stdout",
          "text": [
            "Jumlah Data Train Tiap Kelas\n",
            "Jumlah gambar tanah geluh : 12\n",
            "Jumlah gambar tanah liat : 29\n",
            "Jumlah gambar tanah aluvial : 11\n",
            "Jumlah gambar tanah laterit : 30\n"
          ]
        }
      ],
      "source": [
        "geluh_dir = os.path.join(soil_dir, 'Tanah_Geluh/')\n",
        "liat_dir = os.path.join(soil_dir, 'Tanah_Liat/')\n",
        "aluvial_dir = os.path.join(soil_dir, 'Tanah_Aluvial/')\n",
        "laterit_dir = os.path.join(soil_dir, 'Tanah_Laterit/')\n",
        "\n",
        "print(\"Jumlah Data Train Tiap Kelas\")\n",
        "print(\"Jumlah gambar tanah geluh :\", len(os.listdir(geluh_dir)))\n",
        "print(\"Jumlah gambar tanah liat :\", len(os.listdir(liat_dir)))\n",
        "print(\"Jumlah gambar tanah aluvial :\", len(os.listdir(aluvial_dir)))\n",
        "print(\"Jumlah gambar tanah laterit :\", len(os.listdir(laterit_dir)))"
      ],
      "id": "c7hvG4U66aZF"
    },
    {
      "cell_type": "markdown",
      "source": [
        "#**Pemrosesan gambar pada dataset**#"
      ],
      "metadata": {
        "id": "oDe9IAo6aTFA"
      },
      "id": "oDe9IAo6aTFA"
    },
    {
      "cell_type": "code",
      "source": [
        "n_batch = 32"
      ],
      "metadata": {
        "id": "urlFZAGw-hwv"
      },
      "id": "urlFZAGw-hwv",
      "execution_count": null,
      "outputs": []
    },
    {
      "cell_type": "code",
      "execution_count": null,
      "metadata": {
        "cellView": "code",
        "id": "35525d12"
      },
      "outputs": [],
      "source": [
        "def train_val_generators(training_dir, validation_dir):\n",
        "\n",
        "  train_datagen = ImageDataGenerator(rescale=1.0/255.,\n",
        "                                     rotation_range=10,\n",
        "                                     width_shift_range=0.1,\n",
        "                                     height_shift_range=0.1,\n",
        "                                     shear_range=0.2,\n",
        "                                     zoom_range=0.2,\n",
        "                                     horizontal_flip=True)\n",
        "\n",
        "  train_generator = train_datagen.flow_from_directory(directory=training_dir,\n",
        "                                                      batch_size=n_batch,\n",
        "                                                      class_mode='categorical',\n",
        "                                                      target_size=(150, 150))\n",
        "\n",
        "  validation_datagen = ImageDataGenerator(rescale=1.0/255.)\n",
        "\n",
        "  validation_generator = validation_datagen.flow_from_directory(directory=validation_dir,\n",
        "                                                                batch_size=n_batch,\n",
        "                                                                class_mode='categorical',\n",
        "                                                                shuffle= False,\n",
        "                                                                target_size=(150, 150))\n",
        "\n",
        "  return train_generator, validation_generator"
      ],
      "id": "35525d12"
    },
    {
      "cell_type": "code",
      "execution_count": null,
      "metadata": {
        "colab": {
          "base_uri": "https://localhost:8080/"
        },
        "id": "d2198ef1",
        "outputId": "08b7ee3e-6af6-4e55-af9e-35b3758ec030"
      },
      "outputs": [
        {
          "output_type": "stream",
          "name": "stdout",
          "text": [
            "Found 82 images belonging to 4 classes.\n",
            "Found 15 images belonging to 4 classes.\n"
          ]
        }
      ],
      "source": [
        "train_generator, validation_generator = train_val_generators(training_dir, validation_dir)"
      ],
      "id": "d2198ef1"
    },
    {
      "cell_type": "markdown",
      "source": [
        "#**Indexing label tanah**#"
      ],
      "metadata": {
        "id": "NyagiiC1azzh"
      },
      "id": "NyagiiC1azzh"
    },
    {
      "cell_type": "code",
      "source": [
        "for image_batch, label_batch in train_generator:\n",
        "  break\n",
        "  image_batch.shape, label_batch.shape"
      ],
      "metadata": {
        "id": "G5qA5gOU4Oco"
      },
      "id": "G5qA5gOU4Oco",
      "execution_count": null,
      "outputs": []
    },
    {
      "cell_type": "code",
      "source": [
        "print (train_generator.class_indices)"
      ],
      "metadata": {
        "id": "QQsDzbjD4PQZ",
        "outputId": "6b6d81fa-6316-421c-d0a3-62df9773bd10",
        "colab": {
          "base_uri": "https://localhost:8080/"
        }
      },
      "id": "QQsDzbjD4PQZ",
      "execution_count": null,
      "outputs": [
        {
          "output_type": "stream",
          "name": "stdout",
          "text": [
            "{'Tanah_Aluvial': 0, 'Tanah_Geluh': 1, 'Tanah_Laterit': 2, 'Tanah_Liat': 3}\n"
          ]
        }
      ]
    },
    {
      "cell_type": "markdown",
      "source": [
        "#**Modeling CNN**#"
      ],
      "metadata": {
        "id": "tvFM_ABpa5pR"
      },
      "id": "tvFM_ABpa5pR"
    },
    {
      "cell_type": "code",
      "execution_count": null,
      "metadata": {
        "id": "XcQcpGNvCK4i"
      },
      "outputs": [],
      "source": [
        "from tensorflow.keras.optimizers import Adam\n",
        "from tensorflow.keras.models import Model\n"
      ],
      "id": "XcQcpGNvCK4i"
    },
    {
      "cell_type": "code",
      "source": [
        "class myCallback(tf.keras.callbacks.Callback):\n",
        "  def on_epoch_end(self,epoch, logs = {}):\n",
        "    if(logs.get('accuracy') > 0.91):\n",
        "      print('Akurasi mencapai >90%')\n",
        "      self.model.stop_training = True\n",
        "\n",
        "callbacks = myCallback()"
      ],
      "metadata": {
        "id": "W-OJTQVlkvpz"
      },
      "id": "W-OJTQVlkvpz",
      "execution_count": null,
      "outputs": []
    },
    {
      "cell_type": "code",
      "execution_count": null,
      "metadata": {
        "cellView": "code",
        "id": "d88b8b62"
      },
      "outputs": [],
      "source": [
        "model = tf.keras.models.Sequential([\n",
        "    # layer convolutional pertama\n",
        "    tf.keras.layers.Conv2D(16, (3,3), activation='relu', input_shape=(150, 150, 3)),\n",
        "    tf.keras.layers.MaxPooling2D(2, 2),\n",
        "    # layer convolutional kedua\n",
        "    tf.keras.layers.Conv2D(32, (3,3), activation='relu'),\n",
        "    tf.keras.layers.MaxPooling2D(2,2),\n",
        "    # layer convolutional ketiga\n",
        "    tf.keras.layers.Conv2D(64, (3,3), activation='relu'),\n",
        "    tf.keras.layers.MaxPooling2D(2,2),\n",
        "\n",
        "    tf.keras.layers.Flatten(),\n",
        "    tf.keras.layers.Dense(128, activation='relu'),\n",
        "    tf.keras.layers.Dropout(0.5),\n",
        "    # menentukan jumlah output label\n",
        "    tf.keras.layers.Dense(4, activation='softmax')\n",
        "  ])\n"
      ],
      "id": "d88b8b62"
    },
    {
      "cell_type": "code",
      "execution_count": null,
      "metadata": {
        "colab": {
          "base_uri": "https://localhost:8080/"
        },
        "id": "0DydP521HwoS",
        "outputId": "eb88a634-a043-4483-a238-f71a36f16cdb"
      },
      "outputs": [
        {
          "output_type": "stream",
          "name": "stdout",
          "text": [
            "Model: \"sequential\"\n",
            "_________________________________________________________________\n",
            " Layer (type)                Output Shape              Param #   \n",
            "=================================================================\n",
            " conv2d (Conv2D)             (None, 148, 148, 16)      448       \n",
            "                                                                 \n",
            " max_pooling2d (MaxPooling2D  (None, 74, 74, 16)       0         \n",
            " )                                                               \n",
            "                                                                 \n",
            " conv2d_1 (Conv2D)           (None, 72, 72, 32)        4640      \n",
            "                                                                 \n",
            " max_pooling2d_1 (MaxPooling  (None, 36, 36, 32)       0         \n",
            " 2D)                                                             \n",
            "                                                                 \n",
            " conv2d_2 (Conv2D)           (None, 34, 34, 64)        18496     \n",
            "                                                                 \n",
            " max_pooling2d_2 (MaxPooling  (None, 17, 17, 64)       0         \n",
            " 2D)                                                             \n",
            "                                                                 \n",
            " flatten (Flatten)           (None, 18496)             0         \n",
            "                                                                 \n",
            " dense (Dense)               (None, 128)               2367616   \n",
            "                                                                 \n",
            " dropout (Dropout)           (None, 128)               0         \n",
            "                                                                 \n",
            " dense_1 (Dense)             (None, 4)                 516       \n",
            "                                                                 \n",
            "=================================================================\n",
            "Total params: 2,391,716\n",
            "Trainable params: 2,391,716\n",
            "Non-trainable params: 0\n",
            "_________________________________________________________________\n"
          ]
        }
      ],
      "source": [
        "model.summary()"
      ],
      "id": "0DydP521HwoS"
    },
    {
      "cell_type": "code",
      "execution_count": null,
      "metadata": {
        "id": "oXvioPpsJRL_"
      },
      "outputs": [],
      "source": [
        "from tensorflow.keras.optimizers import RMSprop\n",
        "opt = RMSprop(learning_rate = 0.0001)\n",
        "model.compile(loss='categorical_crossentropy',\n",
        "              optimizer='Adam',\n",
        "              metrics=['accuracy'])"
      ],
      "id": "oXvioPpsJRL_"
    },
    {
      "cell_type": "markdown",
      "metadata": {
        "id": "36ad5144"
      },
      "source": [
        "**Train the model**\n"
      ],
      "id": "36ad5144"
    },
    {
      "cell_type": "code",
      "execution_count": null,
      "metadata": {
        "colab": {
          "base_uri": "https://localhost:8080/"
        },
        "id": "94f6a40a",
        "outputId": "a8c0537d-031a-430b-b526-4e03ae38c1ea"
      },
      "outputs": [
        {
          "output_type": "stream",
          "name": "stdout",
          "text": [
            "Epoch 1/30\n",
            "2/2 [==============================] - 25s 4s/step - loss: 1.5795 - accuracy: 0.2812 - val_loss: 1.6122 - val_accuracy: 0.2000\n",
            "Epoch 2/30\n",
            "2/2 [==============================] - 2s 1s/step - loss: 1.4345 - accuracy: 0.3438 - val_loss: 1.2612 - val_accuracy: 0.6000\n",
            "Epoch 3/30\n",
            "2/2 [==============================] - 1s 635ms/step - loss: 1.1831 - accuracy: 0.5781 - val_loss: 1.1593 - val_accuracy: 0.6000\n",
            "Epoch 4/30\n",
            "2/2 [==============================] - 1s 383ms/step - loss: 1.0123 - accuracy: 0.6800 - val_loss: 1.0690 - val_accuracy: 0.5333\n",
            "Epoch 5/30\n",
            "2/2 [==============================] - 1s 838ms/step - loss: 0.9162 - accuracy: 0.6094 - val_loss: 1.0355 - val_accuracy: 0.4667\n",
            "Epoch 6/30\n",
            "2/2 [==============================] - 1s 364ms/step - loss: 0.7028 - accuracy: 0.7400 - val_loss: 1.2446 - val_accuracy: 0.5333\n",
            "Epoch 7/30\n",
            "2/2 [==============================] - 1s 821ms/step - loss: 0.6320 - accuracy: 0.7656 - val_loss: 0.8842 - val_accuracy: 0.6000\n",
            "Epoch 8/30\n",
            "2/2 [==============================] - 1s 374ms/step - loss: 0.7153 - accuracy: 0.6800 - val_loss: 0.8393 - val_accuracy: 0.6000\n",
            "Epoch 9/30\n",
            "2/2 [==============================] - 2s 851ms/step - loss: 0.7309 - accuracy: 0.7200 - val_loss: 1.2224 - val_accuracy: 0.4667\n",
            "Epoch 10/30\n",
            "2/2 [==============================] - 2s 2s/step - loss: 0.8563 - accuracy: 0.6000 - val_loss: 0.6685 - val_accuracy: 0.8667\n",
            "Epoch 11/30\n",
            "2/2 [==============================] - 2s 1s/step - loss: 0.5677 - accuracy: 0.8400 - val_loss: 0.6655 - val_accuracy: 0.7333\n",
            "Epoch 12/30\n",
            "2/2 [==============================] - 1s 953ms/step - loss: 0.6266 - accuracy: 0.8200 - val_loss: 0.6780 - val_accuracy: 0.6667\n",
            "Epoch 13/30\n",
            "2/2 [==============================] - 1s 656ms/step - loss: 0.6795 - accuracy: 0.7400 - val_loss: 0.5809 - val_accuracy: 0.7333\n",
            "Epoch 14/30\n",
            "2/2 [==============================] - 2s 964ms/step - loss: 0.4156 - accuracy: 0.8600 - val_loss: 0.4553 - val_accuracy: 0.8000\n",
            "Epoch 15/30\n",
            "2/2 [==============================] - 5s 4s/step - loss: 0.3513 - accuracy: 0.9219 - val_loss: 0.4078 - val_accuracy: 0.8000\n",
            "Epoch 16/30\n",
            "2/2 [==============================] - 2s 1s/step - loss: 0.4014 - accuracy: 0.8400 - val_loss: 0.5418 - val_accuracy: 0.8000\n",
            "Epoch 17/30\n",
            "2/2 [==============================] - 2s 1s/step - loss: 0.5208 - accuracy: 0.8125 - val_loss: 0.8147 - val_accuracy: 0.6667\n",
            "Epoch 18/30\n",
            "2/2 [==============================] - 1s 887ms/step - loss: 0.4791 - accuracy: 0.8438 - val_loss: 0.5494 - val_accuracy: 0.7333\n",
            "Epoch 19/30\n",
            "2/2 [==============================] - 1s 755ms/step - loss: 0.3613 - accuracy: 0.8906 - val_loss: 0.8310 - val_accuracy: 0.8000\n",
            "Epoch 20/30\n",
            "2/2 [==============================] - 1s 828ms/step - loss: 0.5492 - accuracy: 0.7656 - val_loss: 0.4492 - val_accuracy: 0.8667\n",
            "Epoch 21/30\n",
            "2/2 [==============================] - 1s 782ms/step - loss: 0.3694 - accuracy: 0.9000 - val_loss: 0.4196 - val_accuracy: 0.8000\n",
            "Epoch 22/30\n",
            "2/2 [==============================] - 1s 1s/step - loss: 0.4469 - accuracy: 0.8400 - val_loss: 0.7011 - val_accuracy: 0.7333\n",
            "Epoch 23/30\n",
            "2/2 [==============================] - 1s 546ms/step - loss: 0.4723 - accuracy: 0.7800 - val_loss: 0.9129 - val_accuracy: 0.7333\n",
            "Epoch 24/30\n",
            "2/2 [==============================] - 1s 414ms/step - loss: 0.5909 - accuracy: 0.8600 - val_loss: 0.4418 - val_accuracy: 0.8000\n",
            "Epoch 25/30\n",
            "2/2 [==============================] - 1s 501ms/step - loss: 0.4778 - accuracy: 0.8600 - val_loss: 0.1862 - val_accuracy: 0.9333\n",
            "Epoch 26/30\n",
            "2/2 [==============================] - 1s 746ms/step - loss: 0.3565 - accuracy: 0.9200 - val_loss: 0.5369 - val_accuracy: 0.7333\n",
            "Epoch 27/30\n",
            "2/2 [==============================] - 1s 623ms/step - loss: 0.6031 - accuracy: 0.7800 - val_loss: 0.1626 - val_accuracy: 1.0000\n",
            "Epoch 28/30\n",
            "2/2 [==============================] - 1s 893ms/step - loss: 0.3610 - accuracy: 0.8594 - val_loss: 0.4632 - val_accuracy: 0.8667\n",
            "Epoch 29/30\n",
            "2/2 [==============================] - 1s 719ms/step - loss: 0.3840 - accuracy: 0.8594 - val_loss: 0.9303 - val_accuracy: 0.6667\n",
            "Epoch 30/30\n",
            "2/2 [==============================] - 2s 1s/step - loss: 0.4543 - accuracy: 0.8750 - val_loss: 0.3753 - val_accuracy: 0.8000\n"
          ]
        }
      ],
      "source": [
        "total_sample = train_generator.n\n",
        "n_epochs = 30\n",
        "\n",
        "# Train the model\n",
        "# Note that this may take some time.\n",
        "history = model.fit(train_generator,\n",
        "                    epochs=30,\n",
        "                    steps_per_epoch = int(total_sample/n_batch),\n",
        "                    verbose=1,\n",
        "                    validation_data=validation_generator\n",
        "                    )\n"
      ],
      "id": "94f6a40a"
    },
    {
      "cell_type": "code",
      "execution_count": null,
      "metadata": {
        "id": "n3MmyJgDgmw7",
        "outputId": "c22ca5a5-89fe-4887-e567-91a6c5eb3c47",
        "colab": {
          "base_uri": "https://localhost:8080/"
        }
      },
      "outputs": [
        {
          "output_type": "stream",
          "name": "stdout",
          "text": [
            "1/1 [==============================] - 0s 172ms/step - loss: 0.3753 - accuracy: 0.8000\n",
            "Akurasi yang diperoleh: 0.800000011920929\n"
          ]
        }
      ],
      "source": [
        "valid_loss, valid_accuracy = model.evaluate(validation_generator)\n",
        "print(\"Akurasi yang diperoleh: {}\".format(valid_accuracy))"
      ],
      "id": "n3MmyJgDgmw7"
    },
    {
      "cell_type": "markdown",
      "source": [
        "#**Save Model**#"
      ],
      "metadata": {
        "id": "WrKOnmsMbLtw"
      },
      "id": "WrKOnmsMbLtw"
    },
    {
      "cell_type": "code",
      "execution_count": null,
      "metadata": {
        "id": "mflZmCmuyALb",
        "colab": {
          "base_uri": "https://localhost:8080/"
        },
        "outputId": "3f201160-b58e-4bdf-ff04-96c76fdbb4e8"
      },
      "outputs": [
        {
          "output_type": "stream",
          "name": "stdout",
          "text": [
            "Model berhasil disimpan!\n"
          ]
        }
      ],
      "source": [
        "# serialize model ke JSON\n",
        "model_json = model.to_json()\n",
        "with open(\"model_tanah.json\", \"w\") as json_file:\n",
        "    json_file.write(model_json)\n",
        "# serialize weights ke HDF5\n",
        "model.save_weights(\"model_tanah.h5\")\n",
        "print(\"Model berhasil disimpan!\")"
      ],
      "id": "mflZmCmuyALb"
    },
    {
      "cell_type": "code",
      "execution_count": null,
      "metadata": {
        "id": "6767c7f2",
        "colab": {
          "base_uri": "https://localhost:8080/",
          "height": 900
        },
        "outputId": "bbfbf36e-d2b2-484e-8a30-c68f6335a7f5"
      },
      "outputs": [
        {
          "output_type": "display_data",
          "data": {
            "text/plain": [
              "<Figure size 640x480 with 1 Axes>"
            ],
            "image/png": "[encoded data removed]"
          },
          "metadata": {}
        },
        {
          "output_type": "stream",
          "name": "stderr",
          "text": [
            "WARNING:matplotlib.legend:No artists with labels found to put in legend.  Note that artists whose label start with an underscore are ignored when legend() is called with no argument.\n"
          ]
        },
        {
          "output_type": "stream",
          "name": "stdout",
          "text": [
            "\n"
          ]
        },
        {
          "output_type": "display_data",
          "data": {
            "text/plain": [
              "<Figure size 640x480 with 1 Axes>"
            ],
            "image/png": "[encoded data removed]"
          },
          "metadata": {}
        }
      ],
      "source": [
        "# Mengambil daftar hasil list pada data training dan test\n",
        "# set untuk setiap epoch pelatihan\n",
        "acc=history.history['accuracy']\n",
        "val_acc=history.history['val_accuracy']\n",
        "loss=history.history['loss']\n",
        "val_loss=history.history['val_loss']\n",
        "\n",
        "epochs=range(len(acc)) # nomor epoch\n",
        "\n",
        "# Plot akurasi training dan validation per epoch\n",
        "plt.plot(epochs, acc, 'r', \"Training Accuracy\")\n",
        "plt.plot(epochs, val_acc, 'b', \"Validation Accuracy\")\n",
        "plt.title('Training and validation accuracy')\n",
        "plt.show()\n",
        "print(\"\")\n",
        "\n",
        "#------------------------------------------------\n",
        "# Plot loss training dan validation per epoch\n",
        "#------------------------------------------------\n",
        "plt.plot(epochs, loss, 'r', \"Training Loss\")\n",
        "plt.plot(epochs, val_loss, 'b', \"Validation Loss\")\n",
        "plt.legend()\n",
        "plt.show()"
      ],
      "id": "6767c7f2"
    },
    {
      "cell_type": "markdown",
      "source": [
        "#**Penerapan Model**#"
      ],
      "metadata": {
        "id": "tDrN6ciQe7ep"
      },
      "id": "tDrN6ciQe7ep"
    },
    {
      "cell_type": "code",
      "execution_count": null,
      "metadata": {
        "id": "ouvlj3VXx6MX",
        "colab": {
          "base_uri": "https://localhost:8080/"
        },
        "outputId": "b1b67fa3-36ff-4337-c0f7-e630c93a4121"
      },
      "outputs": [
        {
          "output_type": "stream",
          "name": "stdout",
          "text": [
            "Model berhasil dimuat!\n"
          ]
        }
      ],
      "source": [
        "from tensorflow.keras.models import Sequential, model_from_json\n",
        "\n",
        "# load json dan buat model\n",
        "json_file = open('model_tanah.json', 'r')\n",
        "loaded_model_json = json_file.read()\n",
        "json_file.close()\n",
        "loaded_model = model_from_json(loaded_model_json)\n",
        "\n",
        "# load weights menjadi model baru\n",
        "loaded_model.load_weights(\"model_tanah.h5\")\n",
        "print(\"Model berhasil dimuat!\")"
      ],
      "id": "ouvlj3VXx6MX"
    },
    {
      "cell_type": "code",
      "source": [
        "import numpy as np\n",
        "from google.colab import files\n",
        "from tensorflow.keras.utils import load_img, img_to_array\n",
        "\n",
        "uploaded = files.upload()\n",
        "\n",
        "for fn in uploaded.keys():\n",
        "\n",
        "  # predicting images\n",
        "  path = fn\n",
        "  img = load_img(path, target_size=(150, 150))\n",
        "  x = img_to_array(img)\n",
        "  x = np.expand_dims(x, axis=0)\n",
        "\n",
        "  images = np.vstack([x])\n",
        "  prediction = model.predict(images, batch_size=10)\n",
        "\n",
        "  # Mendapatkan indeks maksimum dari hasil prediksi\n",
        "  predicted_label_index = np.argmax(prediction)\n",
        "\n",
        "  # Daftar label yang sesuai dengan indeks prediksi\n",
        "  labels = ['Tanah_Aluvial','Tanah_Geluh', 'Tanah Laterit','Tanah Liat']\n",
        "\n",
        "  # Mendapatkan label prediksi\n",
        "  predicted_label = labels[predicted_label_index]\n",
        "\n",
        "  print(fn)\n",
        "  print(prediction)\n",
        "  print(f'Hasil prediksi tanah : {predicted_label}')"
      ],
      "metadata": {
        "colab": {
          "base_uri": "https://localhost:8080/",
          "height": 142
        },
        "id": "7WWsNCSuflly",
        "outputId": "6255a9c2-5ee2-4720-e408-284703c0b40a"
      },
      "id": "7WWsNCSuflly",
      "execution_count": null,
      "outputs": [
        {
          "output_type": "display_data",
          "data": {
            "text/plain": [
              "<IPython.core.display.HTML object>"
            ],
            "text/html": [
              "\n",
              "     <input type=\"file\" id=\"files-1b544ba4-ad10-4041-8806-1106e8b9723a\" name=\"files[]\" multiple disabled\n",
              "        style=\"border:none\" />\n",
              "     <output id=\"result-1b544ba4-ad10-4041-8806-1106e8b9723a\">\n",
              "      Upload widget is only available when the cell has been executed in the\n",
              "      current browser session. Please rerun this cell to enable.\n",
              "      </output>\n",
              "      <script>// Copyright 2017 Google LLC\n",
              "//\n",
              "// Licensed under the Apache License, Version 2.0 (the \"License\");\n",
              "// you may not use this file except in compliance with the License.\n",
              "// You may obtain a copy of the License at\n",
              "//\n",
              "//      http://www.apache.org/licenses/LICENSE-2.0\n",
              "//\n",
              "// Unless required by applicable law or agreed to in writing, software\n",
              "// distributed under the License is distributed on an \"AS IS\" BASIS,\n",
              "// WITHOUT WARRANTIES OR CONDITIONS OF ANY KIND, either express or implied.\n",
              "// See the License for the specific language governing permissions and\n",
              "// limitations under the License.\n",
              "\n",
              "/**\n",
              " * @fileoverview Helpers for google.colab Python module.\n",
              " */\n",
              "(function(scope) {\n",
              "function span(text, styleAttributes = {}) {\n",
              "  const element = document.createElement('span');\n",
              "  element.textContent = text;\n",
              "  for (const key of Object.keys(styleAttributes)) {\n",
              "    element.style[key] = styleAttributes[key];\n",
              "  }\n",
              "  return element;\n",
              "}\n",
              "\n",
              "// Max number of bytes which will be uploaded at a time.\n",
              "const MAX_PAYLOAD_SIZE = 100 * 1024;\n",
              "\n",
              "function _uploadFiles(inputId, outputId) {\n",
              "  const steps = uploadFilesStep(inputId, outputId);\n",
              "  const outputElement = document.getElementById(outputId);\n",
              "  // Cache steps on the outputElement to make it available for the next call\n",
              "  // to uploadFilesContinue from Python.\n",
              "  outputElement.steps = steps;\n",
              "\n",
              "  return _uploadFilesContinue(outputId);\n",
              "}\n",
              "\n",
              "// This is roughly an async generator (not supported in the browser yet),\n",
              "// where there are multiple asynchronous steps and the Python side is going\n",
              "// to poll for completion of each step.\n",
              "// This uses a Promise to block the python side on completion of each step,\n",
              "// then passes the result of the previous step as the input to the next step.\n",
              "function _uploadFilesContinue(outputId) {\n",
              "  const outputElement = document.getElementById(outputId);\n",
              "  const steps = outputElement.steps;\n",
              "\n",
              "  const next = steps.next(outputElement.lastPromiseValue);\n",
              "  return Promise.resolve(next.value.promise).then((value) => {\n",
              "    // Cache the last promise value to make it available to the next\n",
              "    // step of the generator.\n",
              "    outputElement.lastPromiseValue = value;\n",
              "    return next.value.response;\n",
              "  });\n",
              "}\n",
              "\n",
              "/**\n",
              " * Generator function which is called between each async step of the upload\n",
              " * process.\n",
              " * @param {string} inputId Element ID of the input file picker element.\n",
              " * @param {string} outputId Element ID of the output display.\n",
              " * @return {!Iterable<!Object>} Iterable of next steps.\n",
              " */\n",
              "function* uploadFilesStep(inputId, outputId) {\n",
              "  const inputElement = document.getElementById(inputId);\n",
              "  inputElement.disabled = false;\n",
              "\n",
              "  const outputElement = document.getElementById(outputId);\n",
              "  outputElement.innerHTML = '';\n",
              "\n",
              "  const pickedPromise = new Promise((resolve) => {\n",
              "    inputElement.addEventListener('change', (e) => {\n",
              "      resolve(e.target.files);\n",
              "    });\n",
              "  });\n",
              "\n",
              "  const cancel = document.createElement('button');\n",
              "  inputElement.parentElement.appendChild(cancel);\n",
              "  cancel.textContent = 'Cancel upload';\n",
              "  const cancelPromise = new Promise((resolve) => {\n",
              "    cancel.onclick = () => {\n",
              "      resolve(null);\n",
              "    };\n",
              "  });\n",
              "\n",
              "  // Wait for the user to pick the files.\n",
              "  const files = yield {\n",
              "    promise: Promise.race([pickedPromise, cancelPromise]),\n",
              "    response: {\n",
              "      action: 'starting',\n",
              "    }\n",
              "  };\n",
              "\n",
              "  cancel.remove();\n",
              "\n",
              "  // Disable the input element since further picks are not allowed.\n",
              "  inputElement.disabled = true;\n",
              "\n",
              "  if (!files) {\n",
              "    return {\n",
              "      response: {\n",
              "        action: 'complete',\n",
              "      }\n",
              "    };\n",
              "  }\n",
              "\n",
              "  for (const file of files) {\n",
              "    const li = document.createElement('li');\n",
              "    li.append(span(file.name, {fontWeight: 'bold'}));\n",
              "    li.append(span(\n",
              "        `(${file.type || 'n/a'}) - ${file.size} bytes, ` +\n",
              "        `last modified: ${\n",
              "            file.lastModifiedDate ? file.lastModifiedDate.toLocaleDateString() :\n",
              "                                    'n/a'} - `));\n",
              "    const percent = span('0% done');\n",
              "    li.appendChild(percent);\n",
              "\n",
              "    outputElement.appendChild(li);\n",
              "\n",
              "    const fileDataPromise = new Promise((resolve) => {\n",
              "      const reader = new FileReader();\n",
              "      reader.onload = (e) => {\n",
              "        resolve(e.target.result);\n",
              "      };\n",
              "      reader.readAsArrayBuffer(file);\n",
              "    });\n",
              "    // Wait for the data to be ready.\n",
              "    let fileData = yield {\n",
              "      promise: fileDataPromise,\n",
              "      response: {\n",
              "        action: 'continue',\n",
              "      }\n",
              "    };\n",
              "\n",
              "    // Use a chunked sending to avoid message size limits. See b/62115660.\n",
              "    let position = 0;\n",
              "    do {\n",
              "      const length = Math.min(fileData.byteLength - position, MAX_PAYLOAD_SIZE);\n",
              "      const chunk = new Uint8Array(fileData, position, length);\n",
              "      position += length;\n",
              "\n",
              "      const base64 = btoa(String.fromCharCode.apply(null, chunk));\n",
              "      yield {\n",
              "        response: {\n",
              "          action: 'append',\n",
              "          file: file.name,\n",
              "          data: base64,\n",
              "        },\n",
              "      };\n",
              "\n",
              "      let percentDone = fileData.byteLength === 0 ?\n",
              "          100 :\n",
              "          Math.round((position / fileData.byteLength) * 100);\n",
              "      percent.textContent = `${percentDone}% done`;\n",
              "\n",
              "    } while (position < fileData.byteLength);\n",
              "  }\n",
              "\n",
              "  // All done.\n",
              "  yield {\n",
              "    response: {\n",
              "      action: 'complete',\n",
              "    }\n",
              "  };\n",
              "}\n",
              "\n",
              "scope.google = scope.google || {};\n",
              "scope.google.colab = scope.google.colab || {};\n",
              "scope.google.colab._files = {\n",
              "  _uploadFiles,\n",
              "  _uploadFilesContinue,\n",
              "};\n",
              "})(self);\n",
              "</script> "
            ]
          },
          "metadata": {}
        },
        {
          "output_type": "stream",
          "name": "stdout",
          "text": [
            "Saving tanah-liat.jpg to tanah-liat.jpg\n",
            "1/1 [==============================] - 0s 496ms/step\n",
            "tanah-liat.jpg\n",
            "[[0. 0. 0. 1.]]\n",
            "Hasil prediksi tanah : Tanah Liat\n"
          ]
        }
      ]
    }
  ],
  "metadata": {
    "accelerator": "GPU",
    "colab": {
      "provenance": [],
      "include_colab_link": true
    },
    "kernelspec": {
      "display_name": "Python 3",
      "language": "python",
      "name": "python3"
    },
    "language_info": {
      "codemirror_mode": {
        "name": "ipython",
        "version": 3
      },
      "file_extension": ".py",
      "mimetype": "text/x-python",
      "name": "python",
      "nbconvert_exporter": "python",
      "pygments_lexer": "ipython3",
      "version": "3.7.4"
    }
  },
  "nbformat": 4,
  "nbformat_minor": 5
}